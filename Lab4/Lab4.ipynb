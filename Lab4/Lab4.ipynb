{
 "cells": [
  {
   "cell_type": "code",
   "execution_count": 1,
   "metadata": {},
   "outputs": [],
   "source": [
    "import re\n",
    "import collections\n",
    "import numpy as np"
   ]
  },
  {
   "cell_type": "code",
   "execution_count": 2,
   "metadata": {},
   "outputs": [],
   "source": [
    "with open('case5', 'r', encoding='1251') as f:\n",
    "    case = f.read()"
   ]
  },
  {
   "cell_type": "code",
   "execution_count": 3,
   "metadata": {},
   "outputs": [
    {
     "data": {
      "text/plain": [
       "'НЛОКХЮНЙЛУГЫХМН ЦФНГШУПЪЙТХДМЛФФСПФМЦСЪОГЭУХСЙОФДХФР ЩУГЩЕГШКСКДУЪЙЙХЦЦОУЖМРТЛГГПУФСРГЩКЦСХУСТМССГСКГЯЗМРКЦЗДМЛФТЮУРЯДЖЛФЙЬЗТСДЖЪЦОЬКХСТМСДУЪДЙСДУЬНЙУЙЙЛУЦЫХДОНПЭГГЫУХЧКГЪЖЙРЕГОДХСРТЛХЙЦУРСТИЪЗДЮАХКДМАДХФГЦСР ЭЧЖМСГЦЕОЛЖПФЛДХЭМХДХЪЦЙРДМЛЗХСФТЦУФЩКНГННЛЦПЯИДЛРДЦКНЛЗЖСРГШКСКДЖЛИФМЩХЦУНЛПДННССЧГМДХМСГЫУЬСРГЪЖТЛСССДИЪРТТНЦЗДТНЭМЬ НЛПДННССЧГН ПЛШЕЬЕСЛЦТЛЗХСЗТУСТТТТЙДФЪЦОЪЭ ЙДТЦУПЪДХЮКСЛЦЦЪГПФДЬЦЕШЖДХЛПСФИДШНГФДСМЙГЦЕКР РЛЖФЪТЛЪЗЯХДЕЙЦЦЛТДРДРЬЕРЪХСЖСГЦЕРФТТШДЕЖРТЛЭМЬУОЪКГУКФЦЕПЪДУЪРГЪЖМЮДЕЖРГУКПСТЯШДХЯПСЪСГФДЧЭЧПМТГЦУЖЬЕРФДТЮЗЯЦТЧОДТЮДФЪЦОЪЭМЛЗГНКИЩУРЛШЗЧШГШУЙШДМЛШКСДИМЗСЪДССДЖФЙДОДЫЯЛТПУГНУЗМЧХЮЗДЛГГЪХТНКПЛНГТЙДЧДЗЬЕШМДХЛПДЦНРЛЧТЛЧФСФЙЮУРЛПДЦДУЬУХФЧЙЧАГФМГЫХТОНСБНМЛЛИСЧГО ЩЪЙДЛСМЩНХЮХДЛЙЖСХМЛУЦОУФФРМЭАГФДЖЪЭЙЧДРЯЛЫФТДЛРЙЮДЦЬНИБЕЦФДИОШЩЛФФСПФМЦСЖОГЭУЕЪВГПХД ДУЬНЕЧНЛФРХКДОЪДРЩКГЭДЖФЙТШДТЮПФЖЧЯШДМЛЙФЯЛЙЧВЕЩ РЛГГЭЧДЬЕПЭГГЪЖТРХМЮАХКДМЛТДВЕПЛЖЯЧУГЭКЕКДФСПТШКСРУЖМЧ ЛТТЛУСЛФФСЙЧЫХЙРНПЛСЙЩГГШ ГЭКПФДФММЗЪЗТЬДЙПУГЭЗТНУИЩ НЛНГЧВЕСМСЖОГОЦОЪХЙЛХДЭЦЙКРГШУБЛУИФЬДЧШБЛМДЭЧЙЩЬМОУХЮАГКДЧТКГЩЕЫФТДЧДЖАУИФЧ ЛЗГЪЖЯЦТТОКСЩУЙЛСТСДУЪРТТКСФКГЦЕОЛЗИЬШЗЛЗТГРДЛИФМЩМЩГГФДХШШЭСТМСДТОРДРКПЪДРЩУБЛФЧДКГЫХЙТТЙПУГОДХМСТШДИСРЙЛУСМДЕЖРДЛПФМЦДОНЪМДЗЬЕШЛФФСЙХЮЕЖФРГШКСКДВЛЪТЮКПЛПДУЕЦЗЦВЛХДУЗВУТЯШДСЪДЫССГНУПЗЭЙЛЦЦМХДЧЦВЛЗЛКЧ ЛТДЛЦЙНГГОНИЛТЙЫХМЩШКРКСЩУХЮНГЮКРЛЖТЧКЙЛЬЧОЦЦОУЖМРГЭКЕКДССРТОПМШДТЩНГВЧТНДИМЧ ЛСССДЖЬКРКДТЫХДОНЦЗЦВЛНГЫХМО ОЩШЦЗДОЛТТОУРЯДЛЩЕОЪСХЮЗЧЛЦЦМРМЛИТОУФФЧ ЛСЙТЙЧЛЦТНУБЛУЕАУИКЦ ЛЦТЛССЪВГЦЕОЛЦГРУЕЬ РЛЦТЭКИЪСГФДЕСМГБКФССТЩНМЛСЙТЙЧЛЧЙШДВЛЦЦМРГАУИФЧ ЛЗЛМЙГФДЖЫКФСЙГЪЦРМЧФФЗДКДОЩНЗФДМЛПДЬЧМЩ ГОДОМХЦФТДАДВЛТЙЛМСМЧТЦДСЪ'"
      ]
     },
     "execution_count": 3,
     "metadata": {},
     "output_type": "execute_result"
    }
   ],
   "source": [
    "case"
   ]
  },
  {
   "cell_type": "code",
   "execution_count": 4,
   "metadata": {},
   "outputs": [],
   "source": [
    "with open('../Lab1/belkin.txt', 'r', encoding='1251') as f:\n",
    "    text = f.read()"
   ]
  },
  {
   "cell_type": "code",
   "execution_count": 5,
   "metadata": {},
   "outputs": [],
   "source": [
    "text = ' '.join(re.sub('[\\W\\d\\a-zA-Z]', ' ', text).split())\n"
   ]
  },
  {
   "cell_type": "code",
   "execution_count": 6,
   "metadata": {},
   "outputs": [],
   "source": [
    "ALHAVIT = set(re.findall('[а-яА-Я]', case))\n",
    "ALHAVIT.add(' ')\n",
    "ALHAVIT = list(ALHAVIT)"
   ]
  },
  {
   "cell_type": "code",
   "execution_count": 7,
   "metadata": {},
   "outputs": [],
   "source": [
    "alh = {}\n",
    "for num, s in enumerate(sorted(ALHAVIT)):\n",
    "    alh[s] = num"
   ]
  },
  {
   "cell_type": "code",
   "execution_count": 8,
   "metadata": {},
   "outputs": [],
   "source": [
    "P = np.zeros((33, 33), dtype=int)"
   ]
  },
  {
   "cell_type": "code",
   "execution_count": 9,
   "metadata": {},
   "outputs": [],
   "source": [
    "for i in range(len(text) - 1):\n",
    "    s1 = text[i]\n",
    "    s2 = text[i+1]\n",
    "    P[alh[s1], alh[s2]] += 1"
   ]
  },
  {
   "cell_type": "code",
   "execution_count": 10,
   "metadata": {},
   "outputs": [
    {
     "data": {
      "text/plain": [
       "array([19073,  8079,  1861,  4524,  1844,  3040,  8511,  1006,  1606,\n",
       "        6952,  1052,  3078,  5246,  3344,  6346, 10852,  2603,  4314,\n",
       "        5515,  5254,  2824,    93,   793,   379,  1399,   813,   302,\n",
       "          54,  1739,  1979,   106,   777,  2230])"
      ]
     },
     "execution_count": 10,
     "metadata": {},
     "output_type": "execute_result"
    }
   ],
   "source": [
    "P.sum(axis=1)"
   ]
  },
  {
   "cell_type": "code",
   "execution_count": 11,
   "metadata": {},
   "outputs": [],
   "source": [
    "P = P / P.sum(axis=1)"
   ]
  },
  {
   "cell_type": "code",
   "execution_count": 12,
   "metadata": {},
   "outputs": [],
   "source": [
    "def triplet():\n",
    "    keys = alh.keys()\n",
    "    for i in keys:\n",
    "        for j in keys:\n",
    "            for k in keys:\n",
    "                yield ''.join([i, j, k])"
   ]
  },
  {
   "cell_type": "code",
   "execution_count": 13,
   "metadata": {},
   "outputs": [],
   "source": [
    "def check_text(cc):\n",
    "    return sum(P[alh[cc[s]], alh[cc[s + 1]]]for s in range(len(cc) - 1))\n",
    "    \n",
    "def get_text(test):\n",
    "    \n",
    "    def kod(s):\n",
    "        if s == ' ':\n",
    "            return 0\n",
    "        return ord(s) - ord('А') + 1\n",
    "\n",
    "    def re(k):\n",
    "        if k == 0:\n",
    "            return ' '\n",
    "        return chr(ord('А') + k - 1)\n",
    "    \n",
    "    def coding(string):\n",
    "        return [kod(s) for s in string]\n",
    "    \n",
    "    k = coding(test)\n",
    "    cc = ''\n",
    "    for num, i in enumerate(case):\n",
    "        cc += re((kod(i) + 33 - k[num % len(test)]) % 33)\n",
    "    return cc"
   ]
  },
  {
   "cell_type": "code",
   "execution_count": 14,
   "metadata": {},
   "outputs": [],
   "source": [
    "# СЦБ - Ваня\n",
    "# ДГЛ - мое\n",
    "triple = max(triplet(), key=lambda triple: check_text(get_text(triple)))"
   ]
  },
  {
   "cell_type": "code",
   "execution_count": 15,
   "metadata": {},
   "outputs": [
    {
     "name": "stdout",
     "output_type": "stream",
     "text": [
      "ИЗВЕСТИЕ О ПРИБЫТИИ МОЛОДОЙ И ПРЕКРАСНОЙ СОСЕДКИ СИЛЬНО НА МЕНЯ ПОДЕЙСТВОВАЛО Я ГОРЕЛ НЕТЕРПЕНИЕМ ЕЕ УВИДЕТЬ И ПОТОМУ В ПЕРВОЕ ВОСКРЕСЕНИЕ ПО ЕЕ ПРИЕЗДЕ ОТПРАВИЛСЯ ПОСЛЕ ОБЕДА В СЕЛО РЕКОМЕНДОВАТЬСЯ ИХ СИЯТЕЛЬСТВАМ КАК БЛИЖАЙШИЙ СОСЕД И ВСЕПОКОРНЕЙШИЙ СЛУГА ЛАКЕЙ ВВЕЛ МЕНЯ В ГРАФСКОЙ КАБИНЕТ А САМ ПОШЕЛ ОБО МНЕ ДОЛОЖИТЬ ОБШИРЫЙ КАБИНЕТ БЫЛ УБРАН СО ВСЕВОЗМОЖНОЮ РОСКОШЬЮ ОКОЛО СТЕН СТОЯЛИ ШКАФЫ С КНИГАМИ И НАД КАЖДЫМ БРОНЗОВЫЙ БЮСТ НАД МРАМОРНЫМ КАМИНОМ БЫЛО ШИРОКОЕ ЗЕРКАЛО ПОЛ ОБИТ БЫЛ ЗЕЛЕНЫМ СУКНОМ И УСТЛАН КОВРАМИ ОТВЫКНУВ ОТ РОСКОШИ В БЕДНОМ УГЛУ МОЕМ И УЖЕ ДАВНО НЕ ВИДАВ ЧУЖОГО БОГАТСТВА Я ОРОБЕЛ И ЖДАЛ ГРАФА С КАКИМ ТО ТРЕПЕТОМ КАК ПРОСИТЕЛЬ ИЗ ПРОВИНЦИИ ЖДЕТ ВЫХОДА МИНИСТРА ДВЕРИ ОТВОРИЛИСЬ И ВОШЕЛ МУЖЧИНА ЛЕТ ТРИДЦАТИ ДВУХ ПРЕКРАСНЫЙ СОБОЮ ГРАФ ПРИБЛИЗИЛСЯ КО МНЕ С ВИДОМ ОТКРЫТЫМ И ДРУЖЕЛЮБНЫМ Я СТАРАЛСЯ ОБОДРИТЬСЯ И НАЧАЛ БЫЛО СЕБЯ РЕКОМЕНДОВАТЬ НО ОН ПРЕДУПРЕДИЛ МЕНЯ МЫ СЕЛИ РАЗГОВОР ЕГО СВОБОДНЫЙ И ЛЮБЕЗНЫЙ ВСКОРЕ РАССЕЯЛ МОЮ ОДИЧАЛУЮ ЗАСТЕНЧИВОСТЬ Я УЖЕ НАЧИНАЛ ВХОДИТЬ В ОБЫКНОВЕННОЕ МОЕ ПОЛОЖЕНИЕ КАК ВДРУГ ВОШЛА ГРАФИНЯ И СМУЩЕНИЕ ОВЛАДЕЛО МНОЮ ПУЩЕ ПРЕЖНЕГО В САМОМ ДЕЛЕ ОНА БЫЛА КРАСАВИЦА ГРАФ ПРЕДСТАВИЛ МЕНЯ Я ХОТЕЛ КАЗАТЬСЯ РАЗВЯЗНЫМ НО ЧЕМ БОЛЬШЕ СТАРАЛСЯ ВЗЯТЬ НА СЕБЯ ВИД НЕПРИНУЖДЕННОСТИ ТЕМ БОЛЕЕ ЧУВСТВОВАЛ СЕБЯ НЕЛОВКИМ ОНИ ЧТОБ ДАТЬ МНЕ ВРЕМЯ ОПРАВИТЬСЯ И ПРИВЫКНУТЬ К НОВОМУ ЗНАКОМСТВУ СТАЛИ ГОВОРИТЬ МЕЖДУ СОБОЮ ОБХОДЯСЬ СО МНОЮ КАК С ДОБРЫМ СОСЕДОМ И БЕЗ ЦЕРЕМОНИИ МЕЖДУ ТЕМ Я СТАЛ ХОДИТЬ ВЗАД И ВПЕРЕД ОСМАТРИВАЯ КНИГИ И КАРТИНЫ В КАРТИНАХ Я НЕ ЗНАТОК НО\n"
     ]
    }
   ],
   "source": [
    "deshifr = get_text(triple)\n",
    "print(deshifr)"
   ]
  },
  {
   "cell_type": "code",
   "execution_count": 16,
   "metadata": {},
   "outputs": [],
   "source": [
    "with open('decase5.txt', 'w') as f:\n",
    "    f.write(deshifr)"
   ]
  },
  {
   "cell_type": "code",
   "execution_count": 17,
   "metadata": {},
   "outputs": [
    {
     "data": {
      "text/plain": [
       "'ДГЛ'"
      ]
     },
     "execution_count": 17,
     "metadata": {},
     "output_type": "execute_result"
    }
   ],
   "source": [
    "triple"
   ]
  },
  {
   "cell_type": "code",
   "execution_count": null,
   "metadata": {},
   "outputs": [],
   "source": []
  },
  {
   "cell_type": "code",
   "execution_count": null,
   "metadata": {},
   "outputs": [],
   "source": []
  },
  {
   "cell_type": "code",
   "execution_count": null,
   "metadata": {},
   "outputs": [],
   "source": []
  },
  {
   "cell_type": "code",
   "execution_count": null,
   "metadata": {},
   "outputs": [],
   "source": []
  },
  {
   "cell_type": "code",
   "execution_count": null,
   "metadata": {},
   "outputs": [],
   "source": []
  }
 ],
 "metadata": {
  "kernelspec": {
   "display_name": "Python 3",
   "language": "python",
   "name": "python3"
  },
  "language_info": {
   "codemirror_mode": {
    "name": "ipython",
    "version": 3
   },
   "file_extension": ".py",
   "mimetype": "text/x-python",
   "name": "python",
   "nbconvert_exporter": "python",
   "pygments_lexer": "ipython3",
   "version": "3.6.3"
  }
 },
 "nbformat": 4,
 "nbformat_minor": 2
}
