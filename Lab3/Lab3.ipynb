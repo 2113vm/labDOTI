{
 "cells": [
  {
   "cell_type": "code",
   "execution_count": 28,
   "metadata": {},
   "outputs": [],
   "source": [
    "import collections\n",
    "import matplotlib.pyplot as plt\n",
    "import re\n",
    "\n",
    "%matplotlib inline"
   ]
  },
  {
   "cell_type": "code",
   "execution_count": 2,
   "metadata": {},
   "outputs": [],
   "source": [
    "with open('case5', 'r') as f:\n",
    "    case = f.read()"
   ]
  },
  {
   "cell_type": "code",
   "execution_count": 3,
   "metadata": {},
   "outputs": [],
   "source": [
    "c = collections.Counter(case.rstrip().split(' '))"
   ]
  },
  {
   "cell_type": "code",
   "execution_count": 4,
   "metadata": {},
   "outputs": [
    {
     "data": {
      "text/plain": [
       "[('0', 29),\n",
       " ('1', 46),\n",
       " ('2', 29),\n",
       " ('3', 8),\n",
       " ('4', 22),\n",
       " ('5', 28),\n",
       " ('6', 19),\n",
       " ('7', 31),\n",
       " ('8', 10),\n",
       " ('9', 12),\n",
       " ('10', 9),\n",
       " ('11', 13),\n",
       " ('12', 19),\n",
       " ('13', 21),\n",
       " ('14', 31),\n",
       " ('15', 28),\n",
       " ('16', 98),\n",
       " ('17', 23),\n",
       " ('18', 51),\n",
       " ('19', 75),\n",
       " ('20', 44),\n",
       " ('21', 57),\n",
       " ('22', 61),\n",
       " ('23', 24),\n",
       " ('24', 77),\n",
       " ('25', 14),\n",
       " ('26', 42),\n",
       " ('27', 106),\n",
       " ('28', 52),\n",
       " ('29', 61),\n",
       " ('30', 108),\n",
       " ('31', 21),\n",
       " ('240', 87),\n",
       " ('246', 74),\n",
       " ('254', 73)]"
      ]
     },
     "execution_count": 4,
     "metadata": {},
     "output_type": "execute_result"
    }
   ],
   "source": [
    "sorted(c.items(), key=lambda i: int(i[0]))"
   ]
  },
  {
   "cell_type": "code",
   "execution_count": 5,
   "metadata": {},
   "outputs": [],
   "source": [
    "alph = 'абвгдеёжзийклмнопрстуфхцчшщьыъэюя '\n",
    "alph = set(s for s in alph)"
   ]
  },
  {
   "cell_type": "code",
   "execution_count": 6,
   "metadata": {},
   "outputs": [
    {
     "data": {
      "text/plain": [
       "34"
      ]
     },
     "execution_count": 6,
     "metadata": {},
     "output_type": "execute_result"
    }
   ],
   "source": [
    "len(alph)"
   ]
  },
  {
   "cell_type": "code",
   "execution_count": 7,
   "metadata": {},
   "outputs": [],
   "source": [
    "with open('../Lab1/belkin.txt', 'r', encoding='1251') as f:\n",
    "    text = f.read()\n",
    "    \n",
    "text = ' '.join(re.sub('[\\W\\d\\a-zA-Z]', ' ', text).split())\n",
    "counter_text = collections.Counter(text)\n",
    "\n"
   ]
  },
  {
   "cell_type": "code",
   "execution_count": 18,
   "metadata": {},
   "outputs": [],
   "source": [
    "sorted_counter_text = sorted(counter_text.items(), key=lambda it: it[1], reverse=True)\n",
    "sorted_counter_case = sorted(c.items(), key=lambda i: int(i[1]), reverse=True)\n",
    "\n",
    "res = {}\n",
    "for i, j in zip(sorted_counter_case, sorted_counter_text):\n",
    "    res[i[0]] = j[0]"
   ]
  },
  {
   "cell_type": "code",
   "execution_count": 48,
   "metadata": {},
   "outputs": [
    {
     "data": {
      "text/plain": [
       "35"
      ]
     },
     "execution_count": 48,
     "metadata": {},
     "output_type": "execute_result"
    }
   ],
   "source": [
    "len(c.keys())"
   ]
  },
  {
   "cell_type": "code",
   "execution_count": 49,
   "metadata": {},
   "outputs": [
    {
     "data": {
      "text/plain": [
       "Counter({'0': 29,\n",
       "         '1': 46,\n",
       "         '10': 9,\n",
       "         '11': 13,\n",
       "         '12': 19,\n",
       "         '13': 21,\n",
       "         '14': 31,\n",
       "         '15': 28,\n",
       "         '16': 98,\n",
       "         '17': 23,\n",
       "         '18': 51,\n",
       "         '19': 75,\n",
       "         '2': 29,\n",
       "         '20': 44,\n",
       "         '21': 57,\n",
       "         '22': 61,\n",
       "         '23': 24,\n",
       "         '24': 77,\n",
       "         '240': 87,\n",
       "         '246': 74,\n",
       "         '25': 14,\n",
       "         '254': 73,\n",
       "         '26': 42,\n",
       "         '27': 106,\n",
       "         '28': 52,\n",
       "         '29': 61,\n",
       "         '3': 8,\n",
       "         '30': 108,\n",
       "         '31': 21,\n",
       "         '4': 22,\n",
       "         '5': 28,\n",
       "         '6': 19,\n",
       "         '7': 31,\n",
       "         '8': 10,\n",
       "         '9': 12})"
      ]
     },
     "execution_count": 49,
     "metadata": {},
     "output_type": "execute_result"
    }
   ],
   "source": [
    "c"
   ]
  },
  {
   "cell_type": "code",
   "execution_count": 65,
   "metadata": {},
   "outputs": [
    {
     "data": {
      "text/plain": [
       "'d'"
      ]
     },
     "execution_count": 65,
     "metadata": {},
     "output_type": "execute_result"
    }
   ],
   "source": []
  },
  {
   "cell_type": "code",
   "execution_count": null,
   "metadata": {},
   "outputs": [],
   "source": []
  }
 ],
 "metadata": {
  "kernelspec": {
   "display_name": "Python 3",
   "language": "python",
   "name": "python3"
  },
  "language_info": {
   "codemirror_mode": {
    "name": "ipython",
    "version": 3
   },
   "file_extension": ".py",
   "mimetype": "text/x-python",
   "name": "python",
   "nbconvert_exporter": "python",
   "pygments_lexer": "ipython3",
   "version": "3.6.3"
  }
 },
 "nbformat": 4,
 "nbformat_minor": 2
}
