{
 "cells": [
  {
   "cell_type": "code",
   "execution_count": 2,
   "metadata": {},
   "outputs": [],
   "source": [
    "import collections\n",
    "import matplotlib.pyplot as plt\n",
    "import re\n",
    "\n",
    "%matplotlib inline"
   ]
  },
  {
   "cell_type": "code",
   "execution_count": 136,
   "metadata": {},
   "outputs": [],
   "source": [
    "with open('case5', 'r', encoding='1251') as f:\n",
    "    case = f.read()"
   ]
  },
  {
   "cell_type": "code",
   "execution_count": 137,
   "metadata": {},
   "outputs": [],
   "source": [
    "c = collections.Counter(case.rstrip().split(' '))"
   ]
  },
  {
   "cell_type": "code",
   "execution_count": 130,
   "metadata": {},
   "outputs": [
    {
     "data": {
      "text/plain": [
       "[('0', 55),\n",
       " ('1', 39),\n",
       " ('2', 66),\n",
       " ('3', 52),\n",
       " ('4', 47),\n",
       " ('5', 57),\n",
       " ('6', 46),\n",
       " ('7', 79),\n",
       " ('8', 70),\n",
       " ('9', 42),\n",
       " ('10', 73),\n",
       " ('11', 16),\n",
       " ('12', 69),\n",
       " ('13', 48),\n",
       " ('14', 46),\n",
       " ('15', 94),\n",
       " ('16', 21),\n",
       " ('17', 28),\n",
       " ('18', 35),\n",
       " ('19', 39),\n",
       " ('20', 7),\n",
       " ('21', 22),\n",
       " ('22', 15),\n",
       " ('23', 3),\n",
       " ('24', 25),\n",
       " ('25', 13),\n",
       " ('26', 33),\n",
       " ('27', 34),\n",
       " ('28', 30),\n",
       " ('29', 31),\n",
       " ('30', 18),\n",
       " ('31', 20),\n",
       " ('226', 64),\n",
       " ('234', 81),\n",
       " ('237', 86)]"
      ]
     },
     "execution_count": 130,
     "metadata": {},
     "output_type": "execute_result"
    }
   ],
   "source": [
    "sorted(c.items(), key=lambda i: int(i[0]))"
   ]
  },
  {
   "cell_type": "code",
   "execution_count": 131,
   "metadata": {},
   "outputs": [],
   "source": [
    "alph = 'абвгдеёжзийклмнопрстуфхцчшщьыъэюя '\n",
    "alph = set(s for s in alph)"
   ]
  },
  {
   "cell_type": "code",
   "execution_count": 132,
   "metadata": {},
   "outputs": [
    {
     "data": {
      "text/plain": [
       "34"
      ]
     },
     "execution_count": 132,
     "metadata": {},
     "output_type": "execute_result"
    }
   ],
   "source": [
    "len(alph)"
   ]
  },
  {
   "cell_type": "code",
   "execution_count": 133,
   "metadata": {},
   "outputs": [
    {
     "ename": "AttributeError",
     "evalue": "'function' object has no attribute 'sub'",
     "output_type": "error",
     "traceback": [
      "\u001b[0;31m---------------------------------------------------------------------------\u001b[0m",
      "\u001b[0;31mAttributeError\u001b[0m                            Traceback (most recent call last)",
      "\u001b[0;32m<ipython-input-133-92709173b542>\u001b[0m in \u001b[0;36m<module>\u001b[0;34m()\u001b[0m\n\u001b[1;32m      2\u001b[0m     \u001b[0mtext\u001b[0m \u001b[0;34m=\u001b[0m \u001b[0mf\u001b[0m\u001b[0;34m.\u001b[0m\u001b[0mread\u001b[0m\u001b[0;34m(\u001b[0m\u001b[0;34m)\u001b[0m\u001b[0;34m\u001b[0m\u001b[0m\n\u001b[1;32m      3\u001b[0m \u001b[0;34m\u001b[0m\u001b[0m\n\u001b[0;32m----> 4\u001b[0;31m \u001b[0mtext\u001b[0m \u001b[0;34m=\u001b[0m \u001b[0;34m' '\u001b[0m\u001b[0;34m.\u001b[0m\u001b[0mjoin\u001b[0m\u001b[0;34m(\u001b[0m\u001b[0mre\u001b[0m\u001b[0;34m.\u001b[0m\u001b[0msub\u001b[0m\u001b[0;34m(\u001b[0m\u001b[0;34m'[\\W\\d\\a-zA-Z]'\u001b[0m\u001b[0;34m,\u001b[0m \u001b[0;34m' '\u001b[0m\u001b[0;34m,\u001b[0m \u001b[0mtext\u001b[0m\u001b[0;34m)\u001b[0m\u001b[0;34m.\u001b[0m\u001b[0msplit\u001b[0m\u001b[0;34m(\u001b[0m\u001b[0;34m)\u001b[0m\u001b[0;34m)\u001b[0m\u001b[0;34m\u001b[0m\u001b[0m\n\u001b[0m\u001b[1;32m      5\u001b[0m \u001b[0mcounter_text\u001b[0m \u001b[0;34m=\u001b[0m \u001b[0mcollections\u001b[0m\u001b[0;34m.\u001b[0m\u001b[0mCounter\u001b[0m\u001b[0;34m(\u001b[0m\u001b[0mtext\u001b[0m\u001b[0;34m)\u001b[0m\u001b[0;34m\u001b[0m\u001b[0m\n\u001b[1;32m      6\u001b[0m \u001b[0;34m\u001b[0m\u001b[0m\n",
      "\u001b[0;31mAttributeError\u001b[0m: 'function' object has no attribute 'sub'"
     ]
    }
   ],
   "source": [
    "with open('../Lab1/belkin.txt', 'r', encoding='1251') as f:\n",
    "    text = f.read()\n",
    "    \n",
    "text = ' '.join(re.sub('[\\W\\d\\a-zA-Z]', ' ', text).split())\n",
    "counter_text = collections.Counter(text)\n",
    "\n"
   ]
  },
  {
   "cell_type": "code",
   "execution_count": 9,
   "metadata": {},
   "outputs": [],
   "source": [
    "sorted_counter_text = sorted(counter_text.items(), key=lambda it: it[1], reverse=True)\n",
    "sorted_counter_case = sorted(c.items(), key=lambda i: int(i[1]), reverse=True)\n",
    "\n",
    "res = {}\n",
    "for i, j in zip(sorted_counter_case, sorted_counter_text):\n",
    "    res[i[0]] = j[0]"
   ]
  },
  {
   "cell_type": "code",
   "execution_count": 134,
   "metadata": {},
   "outputs": [
    {
     "data": {
      "text/plain": [
       "35"
      ]
     },
     "execution_count": 134,
     "metadata": {},
     "output_type": "execute_result"
    }
   ],
   "source": [
    "len(c.keys())"
   ]
  },
  {
   "cell_type": "code",
   "execution_count": 135,
   "metadata": {},
   "outputs": [
    {
     "data": {
      "text/plain": [
       "Counter({'0': 55,\n",
       "         '1': 39,\n",
       "         '10': 73,\n",
       "         '11': 16,\n",
       "         '12': 69,\n",
       "         '13': 48,\n",
       "         '14': 46,\n",
       "         '15': 94,\n",
       "         '16': 21,\n",
       "         '17': 28,\n",
       "         '18': 35,\n",
       "         '19': 39,\n",
       "         '2': 66,\n",
       "         '20': 7,\n",
       "         '21': 22,\n",
       "         '22': 15,\n",
       "         '226': 64,\n",
       "         '23': 3,\n",
       "         '234': 81,\n",
       "         '237': 86,\n",
       "         '24': 25,\n",
       "         '25': 13,\n",
       "         '26': 33,\n",
       "         '27': 34,\n",
       "         '28': 30,\n",
       "         '29': 31,\n",
       "         '3': 52,\n",
       "         '30': 18,\n",
       "         '31': 20,\n",
       "         '4': 47,\n",
       "         '5': 57,\n",
       "         '6': 46,\n",
       "         '7': 79,\n",
       "         '8': 70,\n",
       "         '9': 42})"
      ]
     },
     "execution_count": 135,
     "metadata": {},
     "output_type": "execute_result"
    }
   ],
   "source": [
    "c"
   ]
  },
  {
   "cell_type": "code",
   "execution_count": null,
   "metadata": {},
   "outputs": [],
   "source": []
  },
  {
   "cell_type": "code",
   "execution_count": 38,
   "metadata": {},
   "outputs": [],
   "source": [
    "def kod(s):\n",
    "    if s == ' ':\n",
    "        return 0\n",
    "    return ord(s) - ord('А') + 1\n",
    "\n",
    "\n",
    "def re(k):\n",
    "    if k == 0:\n",
    "        return ' '\n",
    "    return chr(ord('А') + k - 1)\n",
    "\n",
    "\n",
    "k = [16, 1, 17, 19, 1]\n",
    "cc = ''\n",
    "j = 0\n",
    "for i in case:\n",
    "    cc += re((kod(i) + 33 - k[j % 5]) % 33)\n",
    "    j += 1\n"
   ]
  },
  {
   "cell_type": "code",
   "execution_count": 39,
   "metadata": {},
   "outputs": [],
   "source": [
    "def coding(string):\n",
    "    return [kod(s) for s in string]\n",
    "    "
   ]
  },
  {
   "cell_type": "code",
   "execution_count": 40,
   "metadata": {},
   "outputs": [
    {
     "data": {
      "text/plain": [
       "[16, 1, 17, 19, 1]"
      ]
     },
     "execution_count": 40,
     "metadata": {},
     "output_type": "execute_result"
    }
   ],
   "source": [
    "coding('ПАРТА')"
   ]
  },
  {
   "cell_type": "code",
   "execution_count": 41,
   "metadata": {},
   "outputs": [],
   "source": [
    "def encoding(M, K, L):\n",
    "    return (M + K) % L\n",
    "\n",
    "def decoding(C, K, L):\n",
    "    return (C + K) % L"
   ]
  },
  {
   "cell_type": "code",
   "execution_count": 44,
   "metadata": {},
   "outputs": [],
   "source": [
    "p = coding(' ОН ')"
   ]
  },
  {
   "cell_type": "code",
   "execution_count": 123,
   "metadata": {},
   "outputs": [
    {
     "data": {
      "text/plain": [
       "False"
      ]
     },
     "execution_count": 123,
     "metadata": {},
     "output_type": "execute_result"
    }
   ],
   "source": [
    "test = 'ЗДРАВСТВУЙТЕ'\n",
    "margin = 2\n",
    "k = coding(test)\n",
    "cc = ''\n",
    "\n",
    "for num, i in enumerate(case[margin:]):\n",
    "    cc += re((kod(i) + 33 - k[num % len(test)]) % 33)\n",
    "\n",
    "test in cc"
   ]
  },
  {
   "cell_type": "code",
   "execution_count": 125,
   "metadata": {},
   "outputs": [
    {
     "data": {
      "text/plain": [
       "' 240 27 27 240 29 0 17 30 12 12 246 18 30 29 16 20 24 29 30 246 9 21 29 16 18 19 20 16 246 15 2 24 21 12 246 20 0 24 12 26 24 29 30 246 22 240 1 27 1 4 19 30 21 16 240 7 254 1 20 16 21 31 254 1 4 16 0 24 19 11 246 22 18 22 19 240 25 27 2 6 16 18 30 9 240 24 20 16 17 5 18 22 21 240 5 28 16 16 27 29 30 27 240 28 254 28 24 22 28 246 21 21 4 30 28 246 22 240 7 27 0 18 27 7 27 16 240 23 5 27 246 20 30 246 18 29 19 254 31 6 22 18 19 14 22 19 19 240 18 16 240 7 30 28 24 23 240 28 16 29 1 22 29 13 254 1 20 16 21 31 254 30 27 254 31 24 9 2 30 254 26 22 24 20 13 23 240 18 27 29 10 254 1 24 254 28 27 16 14 246 28 24 18 27 27 7 1 240 18 16 0 24 24 16 246 17 0 24 15 2 24 0 240 26 16 21 8 254 17 19 15 21 18 16 14 246 11 30 4 1 240 27 22 240 25 14 24 20 5 7 28 30 28 30 254 29 30 254 30 23 14 16 17 16 28 246 18 11 7 21 21 31 254 29 30 254 29 6 30 18 24 18 240 26 5 240 23 16 27 10 6 21 8 254 7 22 15 2 30 0 240 18 14 3 21 254 1 246 26 0 5 29 30 26 254 29 19 254 1 3 16 20 7 12 18 24 28 16 29 22 240 30 28 16 27 254 31 19 12 0 24 28 24 1 254 18 19 21 240 16 22 23 27 2 240 7 30 28 5 0 240 5 18 21 6 27 29 27 13 14 246 22 23 23 27 19 22 21 240 20 15 15 28 16 19 24 254 0 24 26 16 246 22 23 29 22 8 19 15 2 20 254 29 30 20 30 21 26 16 246 19 21 246 15 27 5 9 16 29 16 1 10 254 28 27 27 240 20 22 20 19 12 12 246 27 19 24 254 29 22 28 21 7 27 27 19 254 7 4 16 240 20 254 26 6 30 14 246 19 16 14 27 28 246 25 16 246 19 21 7 21 11 3 30 29 27 16 21 246 9 3 18 16 240 25 16 7 19 15 2 10 15 15 246 18 30 16 27 2 246 20 240 16 27 29 7 20 30 26 13 240 16 27 240 25 16 27 5 254 24 26 27 27 246 16 29 246 28 21 29 22 26 5 0 240 7 20 27 24 19 29 24 15 2 10 254 29 24 254 1 4 5 20 29 22 18 24 15 2 10 254 17 13 21 16 246 28 240 27 27 28 246 22 1 4 22 29 27 16 240 18 27 18 30 9 21 7 20 16 9 254 26 6 16 28 19 254 31 24 28 21 7 12 21 31 254 30 246 20 30 4 16 0 13 11 240 20 254 31 30 15 12 26 27 240 20 30 8 19 18 240 5 17 30 26 22 29 22 12 12 246 22 23 20 16 27 30 12 21 246 22 18 22 19 240 25 27 2 6 16 18 30 9 240 24 15 2 22 28 24 29 254 28 27 16 22 19 15 2 20 16 240 6 13 26 24 17 24 7 27 25 246 20 30 4 16 0 13 27 240 1 30 1 4 22 14 246 13 240 26 27 29 9 254 29 22 11 30 18 1 2 7 1 240 1 30 1 4 22 14 246 13 31 24 12 0 19 31 27 19 19 11 246 27 19 24 254 26 29 0 7 27 22 6 19 0 240 27 30 240 6 30 23 27 5 21 246 26 30 26 30 8 27 22 21 246 17 30 4 14 21 23 5 240 4 30 26 30 18 240 24 31 0 22 25 30 26 254 31 6 16 8 29 16 14 246 25 24 26 16 14 246 28 1 19 254 30 28 19 16 246 27 21 246 10 27 30 29 21 29 1 240 17 30 26 29 27 21 27 5 240 23 5 27 30 254 31 19 14 18 24 0 240 1 30 1 4 22 14 246 14 30 26 30 29 22 254 26 24 12 30 6 16 19 24 254 30 27 254 29 19 254 26 24 19 7 30 21 240 20 5 8 19 13 31 24 18 15 27 13 2 13 27 240 25 16 18 19 15 2 30 254 17 13 21 24 246 20 16 16 27 2 7 1 240 25 27 0 20 5 28 246 27 19 24 254 30 25 5 2 24 18 240 24 19 24 246 20 16 28 254 1 28 30 23 13 28 16 29 254 24 20 30 29 246 17 21 4 14 30 20 22 7 246 31 30 29 2 8 19 0 240 1 30 1 4 22 14 246 15 31 6 30 18 19 26 27 30 28 11 246 22 240 7 21 11 14 30 29 13 254 24 26 254 30 4 254 0 22 25 29 13 11 240 24 15 30 23 254 30 18 19 16 28 16 240 16 254 24 26 27 29 22 254 18 246 19 24 3 254 31 24 9 2 30 254 18 7 27 240 20 5 28 13 6 27 19 19 11 246 22 28 246 15 16 26 22 28 246 30 240 27 30 23 20 30 29 30 1 240 7 27 27 246 22 240 18 27 0 19 28 21 27 2 240 17 30 24 26 15 2 20 16 18 22 19 11 246 22 23 246 19 16 14 27 19 24 254 30 28 16 27 24 26 26 22 254 30 4 9 21 21 16 240 30 254 28 24 1 240 18 27 0 19 28 29 9 254 19 18 27 240 4 16 240 5 17 30 26 1 29 5 12 16 246 15 24 19 254 31 6 16 24 17 16 8 29 16 240 27 27 240 24 12 240 17 21 30 21 16 240 28 30 26 24 29 30 246 21 24 23 16 240 27 30 28 19 14 21 27 22 15 246 19 30 246 27 20 30 19 1 4 28 21 27 19 30 246 16 2 246 19 21 18 16 1 4 30 2 28 30 240 20 16 30 23 14 16 16 27 29 30 1 240 30 28 16 27 254 31 19 12 0 24 28 24 1 254 30 7 27 29 10 0 240 21 16 20 22 254 23 22 19 21 26 16 19 246 17 0 24 15 2 5 26 29 24 0 240 29 22 5 24 14 16 18 20 30 8 254 30 23 14 16 4 22 18 14 27 14 7 1 240 20 254 19 24 14 15 1 20 3 246 22 240 5 18 21 6 254 29 19 254 1 26 16 2 6 1 240 27 30 240 27 27 3 7 5 31 27 5 21 246 15 2 22 14 16 27 22 15 246 13 21 17 26 29 24 29 30 246 19 16 14 27 19 24 254 27 19 20 16 6 1 240 1 27 27 24 28 21 28 30 240 20 27 1 10 18 16 246 22 1 28 13 1 27 16 19 24 254 30 7 16 17 19 19 29 24 254 18 246 21 21 1 27 29 30 22 240 17 30 26 24 14 21 27 27 27 13 11 240 23 16 27 19 25 29 19 23 240 28 30 26 246 12 30 246 18 30 17 16 27 19 23 240 30 254 2 24 18 3 246 17 30 18 16 17 27 16 19 24 '"
      ]
     },
     "execution_count": 125,
     "metadata": {},
     "output_type": "execute_result"
    }
   ],
   "source": []
  },
  {
   "cell_type": "code",
   "execution_count": 127,
   "metadata": {},
   "outputs": [
    {
     "data": {
      "text/plain": [
       "35"
      ]
     },
     "execution_count": 127,
     "metadata": {},
     "output_type": "execute_result"
    }
   ],
   "source": [
    "len(c)"
   ]
  },
  {
   "cell_type": "code",
   "execution_count": null,
   "metadata": {},
   "outputs": [],
   "source": []
  },
  {
   "cell_type": "code",
   "execution_count": null,
   "metadata": {},
   "outputs": [],
   "source": []
  },
  {
   "cell_type": "code",
   "execution_count": null,
   "metadata": {},
   "outputs": [],
   "source": []
  }
 ],
 "metadata": {
  "kernelspec": {
   "display_name": "Python 3",
   "language": "python",
   "name": "python3"
  },
  "language_info": {
   "codemirror_mode": {
    "name": "ipython",
    "version": 3
   },
   "file_extension": ".py",
   "mimetype": "text/x-python",
   "name": "python",
   "nbconvert_exporter": "python",
   "pygments_lexer": "ipython3",
   "version": "3.6.3"
  }
 },
 "nbformat": 4,
 "nbformat_minor": 2
}
