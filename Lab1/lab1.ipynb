{
 "cells": [
  {
   "cell_type": "code",
   "execution_count": 58,
   "metadata": {},
   "outputs": [],
   "source": [
    "import numpy as np\n",
    "import re\n",
    "import collections"
   ]
  },
  {
   "cell_type": "code",
   "execution_count": 86,
   "metadata": {},
   "outputs": [],
   "source": [
    "with open('belkin.txt', 'r', encoding='1251') as file:\n",
    "    text = file.read()\n",
    "    \n",
    "with open('case5', 'r', encoding='1251') as file:\n",
    "    case = file.read()\n",
    "    \n",
    "text = ' '.join(re.sub('[\\W\\d\\a-zA-Z]', ' ', text).split())"
   ]
  },
  {
   "cell_type": "code",
   "execution_count": 87,
   "metadata": {},
   "outputs": [],
   "source": [
    "counter_text = collections.Counter(text)\n",
    "counter_case = collections.Counter(case)"
   ]
  },
  {
   "cell_type": "code",
   "execution_count": 90,
   "metadata": {},
   "outputs": [
    {
     "data": {
      "text/plain": [
       "(32, 33)"
      ]
     },
     "execution_count": 90,
     "metadata": {},
     "output_type": "execute_result"
    }
   ],
   "source": [
    "len(counter_case), len(counter_text)"
   ]
  },
  {
   "cell_type": "code",
   "execution_count": 93,
   "metadata": {},
   "outputs": [],
   "source": [
    "counter_case['Й'] = 0"
   ]
  },
  {
   "cell_type": "code",
   "execution_count": 96,
   "metadata": {},
   "outputs": [
    {
     "data": {
      "text/plain": [
       "(33, 33)"
      ]
     },
     "execution_count": 96,
     "metadata": {},
     "output_type": "execute_result"
    }
   ],
   "source": [
    "len(counter_case), len(counter_text)"
   ]
  },
  {
   "cell_type": "code",
   "execution_count": 97,
   "metadata": {},
   "outputs": [],
   "source": [
    "case_items = sorted(counter_case.items(), key=lambda item: item[1], reverse=True)\n",
    "text_items = sorted(counter_text.items(), key=lambda item: item[1], reverse=True)\n"
   ]
  },
  {
   "cell_type": "code",
   "execution_count": 101,
   "metadata": {},
   "outputs": [
    {
     "name": "stdout",
     "output_type": "stream",
     "text": [
      "(' ', 19073) ('Х', 238)\n",
      "('О', 10852) ('Б', 136)\n",
      "('Е', 8511) ('К', 128)\n",
      "('А', 8080) ('Г', 92)\n",
      "('И', 6952) ('Е', 88)\n",
      "('Н', 6346) ('А', 86)\n",
      "('С', 5515) ('Ч', 71)\n",
      "('Т', 5254) ('Ю', 68)\n",
      "('Л', 5246) ('Р', 56)\n",
      "('В', 4524) ('Ъ', 55)\n",
      "('Р', 4314) ('П', 47)\n",
      "('М', 3344) (' ', 45)\n",
      "('К', 3078) ('В', 43)\n",
      "('Д', 3040) ('Ц', 41)\n",
      "('У', 2824) ('Ж', 38)\n",
      "('П', 2603) ('И', 35)\n",
      "('Я', 2230) ('У', 29)\n",
      "('Ь', 1979) ('С', 27)\n",
      "('Б', 1861) ('Д', 24)\n",
      "('Г', 1844) ('Ы', 24)\n",
      "('Ы', 1739) ('М', 22)\n",
      "('З', 1606) ('Н', 18)\n",
      "('Ч', 1399) ('Ь', 17)\n",
      "('Й', 1052) ('Ш', 14)\n",
      "('Ж', 1006) ('Л', 13)\n",
      "('Ш', 813) ('Я', 12)\n",
      "('Х', 793) ('Т', 10)\n",
      "('Ю', 777) ('Э', 10)\n",
      "('Ц', 379) ('О', 4)\n",
      "('Щ', 302) ('Щ', 4)\n",
      "('Э', 106) ('З', 3)\n",
      "('Ф', 93) ('Ф', 2)\n",
      "('Ъ', 54) ('Й', 0)\n"
     ]
    }
   ],
   "source": [
    "for t, c in zip(text_items, case_items):\n",
    "    print(t, c)"
   ]
  },
  {
   "cell_type": "code",
   "execution_count": null,
   "metadata": {},
   "outputs": [],
   "source": []
  },
  {
   "cell_type": "code",
   "execution_count": null,
   "metadata": {},
   "outputs": [],
   "source": []
  },
  {
   "cell_type": "code",
   "execution_count": null,
   "metadata": {},
   "outputs": [],
   "source": []
  },
  {
   "cell_type": "code",
   "execution_count": null,
   "metadata": {},
   "outputs": [],
   "source": []
  },
  {
   "cell_type": "code",
   "execution_count": null,
   "metadata": {},
   "outputs": [],
   "source": []
  },
  {
   "cell_type": "code",
   "execution_count": null,
   "metadata": {},
   "outputs": [],
   "source": []
  },
  {
   "cell_type": "code",
   "execution_count": null,
   "metadata": {},
   "outputs": [],
   "source": []
  },
  {
   "cell_type": "code",
   "execution_count": null,
   "metadata": {},
   "outputs": [],
   "source": []
  }
 ],
 "metadata": {
  "kernelspec": {
   "display_name": "Python 3",
   "language": "python",
   "name": "python3"
  },
  "language_info": {
   "codemirror_mode": {
    "name": "ipython",
    "version": 3
   },
   "file_extension": ".py",
   "mimetype": "text/x-python",
   "name": "python",
   "nbconvert_exporter": "python",
   "pygments_lexer": "ipython3",
   "version": "3.6.5"
  }
 },
 "nbformat": 4,
 "nbformat_minor": 2
}
